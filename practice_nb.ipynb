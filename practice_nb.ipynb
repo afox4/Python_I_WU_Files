print("hello, this is a notebook")
